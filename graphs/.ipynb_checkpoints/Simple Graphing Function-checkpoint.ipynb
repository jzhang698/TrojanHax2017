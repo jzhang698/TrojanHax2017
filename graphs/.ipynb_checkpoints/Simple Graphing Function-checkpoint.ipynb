{
 "cells": [
  {
   "cell_type": "code",
   "execution_count": null,
   "metadata": {
    "collapsed": true
   },
   "outputs": [],
   "source": [
    "# A simple script for graphing data.\n",
    "# Asks for a CSV file containing 2-column data,\n",
    "# graphs the data then exports to a PDF (vector image) file.\n",
    "\n",
    "import matplotlib.pyplot as plt\n",
    "import csv\n",
    "import sys\n",
    "\n",
    "# allow graphs to be displayed in the console\n",
    "%matplotlib inline\n",
    "\n",
    "# import csv file\n",
    "csv_reader = csv.reader(open('test.csv'))\n",
    "bigx = float(-sys.maxint -1) \n",
    "bigy = float(-sys.maxint -1)\n",
    "smallx = float(sys.maxint)\n",
    "smally = float(sys.maxint)\n",
    "\n",
    "verts = []\n",
    "\n",
    "for row in csv_reader:\n",
    "    verts.append(row)\n",
    "    if float(row[0]) > bigx:\n",
    "        bigx = float(row[0])\n",
    "        if float(row[1]) > bigy:\n",
    "            bigy = float(row[1])\n",
    "            if float(row[0]) < smallx:\n",
    "                smallx = float(row[0])\n",
    "                if float(row[1]) < smally:\n",
    "                    smally = float(row[1])\n",
    "\n",
    "# place data in 2 arrays for x and y data\n",
    "verts.sort()\n",
    "x_arr = []\n",
    "y_arr = []\n",
    "\n",
    "for vert in verts:\n",
    "    x_arr.append(vert[0])\n",
    "    y_arr.append(vert[1])\n",
    "\n",
    "# Create plot\n",
    "fig = plt.figure()\n",
    "ax = fig.add_axes([0.1, 0.1, 0.8, 0.8]) #axis size\n",
    "\n",
    "# write labels\n",
    "ax.set_xlabel('x data')\n",
    "ax.set_ylabel('y data')\n",
    "ax.set_xlim(smallx, bigx)\n",
    "ax.set_ylim(smally, bigy) #plot range\n",
    "\n",
    "ax.plot(x_arr, y_arr, color='yellow', lw = 2)\n",
    "plt.show() # show the plot in the console\n",
    "fig.savefig('test.pdf') # save plot to file."
   ]
  }
 ],
 "metadata": {
  "kernelspec": {
   "display_name": "Python 3",
   "language": "python",
   "name": "python3"
  },
  "language_info": {
   "codemirror_mode": {
    "name": "ipython",
    "version": 3
   },
   "file_extension": ".py",
   "mimetype": "text/x-python",
   "name": "python",
   "nbconvert_exporter": "python",
   "pygments_lexer": "ipython3",
   "version": "3.6.0"
  }
 },
 "nbformat": 4,
 "nbformat_minor": 2
}
